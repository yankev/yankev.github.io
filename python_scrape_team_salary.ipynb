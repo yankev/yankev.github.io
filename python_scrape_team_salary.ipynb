{
 "cells": [
  {
   "cell_type": "code",
   "execution_count": null,
   "metadata": {
    "collapsed": true
   },
   "outputs": [],
   "source": [
    "import urllib2\n",
    "from bs4 import BeautifulSoup\n",
    "import pandas as pd"
   ]
  },
  {
   "cell_type": "code",
   "execution_count": null,
   "metadata": {
    "collapsed": true
   },
   "outputs": [],
   "source": [
    "salary_df = pd.DataFrame([],columns = ['year','team','salary'])"
   ]
  },
  {
   "cell_type": "code",
   "execution_count": null,
   "metadata": {
    "collapsed": true
   },
   "outputs": [],
   "source": [
    "# START LOOP HERE\n",
    "# Loop over a list of teams, as well as the years"
   ]
  },
  {
   "cell_type": "code",
   "execution_count": 80,
   "metadata": {
    "collapsed": false
   },
   "outputs": [],
   "source": [
    "\n",
    "year = 2016\n",
    "team = 'GSW'\n",
    "response = urllib2.urlopen('http://www.basketball-reference.com/teams/{}/{}.html'.format(year,team))\n",
    "html = response.read()"
   ]
  },
  {
   "cell_type": "code",
   "execution_count": 81,
   "metadata": {
    "collapsed": false
   },
   "outputs": [
    {
     "data": {
      "text/html": [
       "<div style=\"max-height:1000px;max-width:1500px;overflow:auto;\">\n",
       "<table border=\"1\" class=\"dataframe\">\n",
       "  <thead>\n",
       "    <tr style=\"text-align: right;\">\n",
       "      <th></th>\n",
       "      <th>year</th>\n",
       "      <th>team</th>\n",
       "      <th>salary</th>\n",
       "    </tr>\n",
       "  </thead>\n",
       "  <tbody>\n",
       "  </tbody>\n",
       "</table>\n",
       "</div>"
      ],
      "text/plain": [
       "Empty DataFrame\n",
       "Columns: [year, team, salary]\n",
       "Index: []"
      ]
     },
     "execution_count": 81,
     "metadata": {},
     "output_type": "execute_result"
    }
   ],
   "source": [
    "salary_df"
   ]
  },
  {
   "cell_type": "code",
   "execution_count": 82,
   "metadata": {
    "collapsed": false
   },
   "outputs": [
    {
     "data": {
      "text/plain": [
       "'<!DOCTYPE html><html data-version=\"the-magglio-420\" itemscope itemtype=\"http://schema.org/website\" xmlns:fb=\"http://www.facebook.com/2008/fbml\" xmlns:og=\"http://opengraphprotocol.org/schema/\" lang=\"en\"><head><title>File Not Found | Basketball-Reference.com</title><link rel=\"dns-prefetch\" href=\"http://d2ft4b0ve1aur1.cloudfront.net\" /><link rel=\"dns-prefetch\" href=\"http://m.bkref.com\" />\\n<link rel=subresource href=\"http://d2ft4b0ve1aur1.cloudfront.net/js-475/sr-bbr-min.js.jgz\" /><script type=\"text/javascript\">var sr_gzipEnabled = false; var sr_js_loader = new Array();</script><script type=\"text/javascript\" src=\"http://d2ft4b0ve1aur1.cloudfront.net/js-100/sr.gzipcheck.js.jgz\"></script><noscript><link type=\"text/css\" rel=\"stylesheet\" href=\"http://d2ft4b0ve1aur1.cloudfront.net/css-475/sr-bbr-min.css\"></noscript><script type=\"text/javascript\">\\n(function () {var sr_css_file = \\'http://d2ft4b0ve1aur1.cloudfront.net/css-475/sr-bbr-min.css\\';if (sr_gzipEnabled) {sr_css_file = \\'http://d2ft4b0ve1aur1.cloudfront.net/css-475/sr-bbr-min-gz.css\\';}var head = document.getElementsByTagName(\"head\")[0];if (head) {var scriptStyles = document.createElement(\"link\");scriptStyles.rel = \"stylesheet\";scriptStyles.type = \"text/css\";scriptStyles.href = sr_css_file;head.appendChild(scriptStyles);}}());</script><!-- tiles, touch, favicons --><link rel=\"apple-touch-icon-precomposed\" sizes=\"152x152\" href=\"http://d2ft4b0ve1aur1.cloudfront.net/images-475/apple-touch-icon-152x152-bbr-precomposed.png\"><link rel=\"apple-touch-icon-precomposed\" sizes=\"144x144\" href=\"http://d2ft4b0ve1aur1.cloudfront.net/images-475/apple-touch-icon-144x144-bbr-precomposed.png\"><link rel=\"apple-touch-icon-precomposed\" sizes=\"120x120\" href=\"http://d2ft4b0ve1aur1.cloudfront.net/images-475/apple-touch-icon-120x120-bbr-precomposed.png\"><link rel=\"apple-touch-icon-precomposed\" sizes=\"114x114\" href=\"http://d2ft4b0ve1aur1.cloudfront.net/images-475/apple-touch-icon-114x114-bbr-precomposed.png\"><link rel=\"apple-touch-icon-precomposed\" sizes=\"76x76\" href=\"http://d2ft4b0ve1aur1.cloudfront.net/images-475/apple-touch-icon-76x76-bbr-precomposed.png\"><link rel=\"apple-touch-icon-precomposed\" sizes=\"72x72\" href=\"http://d2ft4b0ve1aur1.cloudfront.net/images-475/apple-touch-icon-72x72-bbr-precomposed.png\"><link rel=\"apple-touch-icon-precomposed\" href=\"http://d2ft4b0ve1aur1.cloudfront.net/images-475/apple-touch-icon-bbr-precomposed.png\"><link rel=icon href=\"http://d2ft4b0ve1aur1.cloudfront.net/images-475/favicon_bbr.png\"><!--[if IE]><link rel=\"shortcut icon\" href=\"http://d2ft4b0ve1aur1.cloudfront.net/images-475/favicon_bbr.ico\"><![endif]--><meta name=\"msapplication-TileColor\" content=\"#ffffff\"/><meta name=\"msapplication-TileImage\" content=\"http://d2ft4b0ve1aur1.cloudfront.net/images-475/ms-tile-144-bbr.png\" /><link rel=search        type=\"application/opensearchdescription+xml\" href=\"http://d2ft4b0ve1aur1.cloudfront.net/os-475/opensearch-bbr.xml\" title=\"B-Ref Search\"><!--[if lte IE 7 ]><style type=\"text/css\">\\n.uni_holder { display: none; }\\n</style><![endif]--><!--[if lte IE 6]><style type=\"text/css\">\\n.hovermenu,.hovermenu_ajax,.sub_index,#quick_index {display:none!important}\\n</style><![endif]-->\\n<!--  ASYNCHRONOUS:googletag --><script type=\\'text/javascript\\'>\\nvar googletag = googletag || {};googletag.cmd = googletag.cmd || [];(function() {var gads = document.createElement(\\'script\\');gads.async = true;gads.type = \\'text/javascript\\';var useSSL = \\'https:\\' == document.location.protocol;gads.src = (useSSL ? \\'https:\\' : \\'http:\\') + \\'//www.googletagservices.com/tag/js/gpt.js\\';var node = document.getElementsByTagName(\\'script\\')[0];node.parentNode.insertBefore(gads, node);})();</script><meta name=keywords content=\"\"><meta property=\"fb:admins\"     content=\"34208645\"><meta property=\"fb:page_id\"    content=\"35120246404\"><meta property=\"og:site_name\"  content=\"Basketball-Reference.com\"><meta property=\"og:image\"      content=\"http://d2ft4b0ve1aur1.cloudfront.net/images-377/Basketball-Ref.png\"><meta itemprop=image         content=\"http://d2ft4b0ve1aur1.cloudfront.net/images-377/Basketball-Ref.png\"><meta name=\"twitter:card\"         content=\"summary\"><meta name=\"twitter:site\"         content=\"@bball_ref\"><meta name=\"twitter:creator\"      content=\"@bball_ref\"><meta name=\"twitter:title\"        content=\"File Not Found | Basketball-Reference.com\"><meta name=\"twitter:description\"  content=\"Stats and results for players, teams, leaders and scores from the first game ever to yesterday\"><meta name=\"twitter:image\"        content=\"\"><meta name=\"twitter:image:width\"  content=\"\"><meta name=\"twitter:image:height\" content=\"\"><meta name=\"twitter:url\"          content=\"http://www.basketball-reference.com\"><meta name=\"twitter:domain\"       content=\"Basketball-Reference.com\"></head><body onload=\"\"><div id=page_container><div id=top_nav><!--BEGIN QUALTRICS SITE INTERCEPT-->\\n<script type=\\'text/javascript\\'>\\n(function(){var g=function(e,h,f,g){\\nthis.get=function(a){for(var a=a+\"=\",c=document.cookie.split(\";\"),b=0,e=c.length;b<e;b++){for(var d=c[b];\" \"==d.charAt(0);)d=d.substring(1,d.length);if(0==d.indexOf(a))return d.substring(a.length,d.length)}return null};\\nthis.set=function(a,c){var b=\"\",b=new Date;b.setTime(b.getTime()+6048E5);b=\"; expires=\"+b.toGMTString();document.cookie=a+\"=\"+c+b+\"; path=/; \"};\\nthis.check=function(){var a=this.get(f);if(a)a=a.split(\":\");else if(100!=e)\"v\"==h&&(e=Math.random()>=e/100?0:100),a=[h,e,0],this.set(f,a.join(\":\"));else return!0;var c=a[1];if(100==c)return!0;switch(a[0]){case \"v\":return!1;case \"r\":return c=a[2]%Math.floor(100/c),a[2]++,this.set(f,a.join(\":\")),!c}return!0};\\nthis.go=function(){if(this.check()){var a=document.createElement(\"script\");a.type=\"text/javascript\";a.src=g+ \"&t=\" + (new Date()).getTime();document.body&&document.body.appendChild(a)}};\\nthis.start=function(){var a=this;window.addEventListener?window.addEventListener(\"load\",function(){a.go()},!1):window.attachEvent&&window.attachEvent(\"onload\",function(){a.go()})}};\\ntry{(new g(100,\"r\",\"QSI_S_SI_3CWPKrI10k7ANBX\",\"//zncvfm2dltswdzell-farris.siteintercept.qualtrics.com/WRSiteInterceptEngine/?Q_SIID=SI_3CWPKrI10k7ANBX&Q_LOC=\"+encodeURIComponent(window.location.href))).start()}catch(i){}})();\\n</script><div id=\\'SI_3CWPKrI10k7ANBX\\'><!--DO NOT REMOVE-CONTENTS PLACED HERE--></div>\\n<!--END SITE INTERCEPT-->\\n\\n<div id=\"sr_site_dir\">\\n <a href=\"http://www.sports-reference.com\">Sports-Reference</a>:\\n <a href=\"http://www.baseball-reference.com\">Baseball</a> &#183;\\n <span class=\"bold_text\">Basketball</span>\\n(<a href=\"http://www.sports-reference.com/cbb/\">college</a>) &#183;\\n <a href=\"http://www.pro-football-reference.com\">Football</a>\\n(<a href=\"http://www.sports-reference.com/cfb/\">college</a>) &#183;\\n <a href=\"http://www.hockey-reference.com/\">Hockey</a> &#183;\\n <a href=\"http://www.sports-reference.com/olympics/\">Olympics</a> &#183;\\n <a href=\"http://www.sports-reference.com/blog/\">S-R Blog</a> &#183;\\n <a href=\"http://www.sports-reference.com/feedback/\">Question or Comment?</a>\\n</div><!-- div#sr_site_dir -->\\n\\n<div id=site_header>\\n <div id=sr_header>\\n  <div id=sr_header_right_float class=\"float_right clear_right\">\\n   <div class=\"float_right\">\\n    <div id=\"welcome\" class=\"margin0 padding_bottom_half float_right poptip\" tip=\"Review the details of your account\"><span class=\"greeting\"></span><a class=\"acct_external\" href=\"/my/auth.cgi\"></a>&nbsp;</div>\\n    <div class=\"clear_both padding_bottom_half\">\\n     <span class=\"badge ui-corner-all         colors         like_a logged_out\"  onclick=\"return sr_login_popup();\" id=\"login_placeholder\" style=\"display:none;\"                                      >LOGIN<span id=\"loginform_container\"></span></span>\\n     <span class=\"badge ui-corner-all         colors         like_a logged_in\"   onclick=\"return sr_logout();\"                                                                                        >LOGOUT</span>\\n     <span class=\"badge ui-corner-all tooltip disabled_badge like_a is_sponsor\"  onclick=\"document.location.href=\\'/my/auth.cgi?do=sponsor\\'\"          tip=\"Sponsor a page on Basketball-Reference.com\" >SPONSOR</span>\\n     <span class=\"badge ui-corner-all tooltip disabled_badge like_a ad_free\"     onclick=\"document.location.href=\\'/my/auth.cgi?do=ad_free_browsing\\'\" tip=\"Surf Sports Reference Ad Free\">AD FREE</span>\\n    <span>&nbsp;</span>\\n    </div>\\n   </div>\\n\\n   <div class=\"clearfix float_right clear_both\">\\n    <div class=\"padding_left_half float_right\"><a class=\"sprite-twitter\" title=\"Follow us on Twitter\" href=\"http://twitter.com/bball_ref\"></a><a class=\"sprite-facebook\" title=\"Become a Fan on FaceBook\" href=\"http://www.facebook.com/Basketball.Reference\"></a><a class=\"sprite-youtube\" title=\"Sports Reference Instructional Videos\" href=\"http://www.youtube.com/user/sportsreference\"></a></div>\\n\\n    <div class=float_right>\\n     <form  id=\"f\" name=\"f\" action=\"/search/search.fcgi\">\\n      <input x-webkit-speech type=\"search\" placeholder=\"click \\'Tips\\' for shortcuts\" id=\"search\" name=\"search\" class=\"search long typeahead\">\\n      <input type=\"hidden\" name=\"results\" value=\"\" data-search-id>\\n      <input type=submit value=\"Search\" class=\"submit\">\\n      <a class=\"padding_left_half small_text\" href=\"/about/findstuff.shtml?lid=homepage_tips\">Tips</a>\\n     </form>\\n    </div>\\n   </div>\\n\\n  </div><!-- div#sr_header_right_float -->\\n </div><!-- div#sr_header -->\\n\\n <div class=\"float_left\">\\n  <div class=\"clear_left float_left padding_top padding_bottom_half\"><a href=\"/?lid=homepage_logo\"><img src=\"http://d2ft4b0ve1aur1.cloudfront.net/images-370/Basketball-Ref.png\" width=464 height=73 border=\"0\" alt=\"Basketball-Reference.com\"></a>\\n</div>\\n </div>\\n\\n</div><!-- div#site_header -->\\n\\n\\n<div id=quick_index><ul class=\"hovermenu_ajax navbar\"><li><a href=\"/play-index/\">play index</a><ul class=li_margin id=\"header_playindex\"></ul></li><li><a href=\"/boxscores/\">box scores</a><ul id=header_boxscores></ul></li><li><a href=\"/players/\">players</a><ul class=li_margin id=\"header_players\"></ul></li><li><a href=\"/teams/\">teams</a><ul id=header_teams></ul></li><li><a href=\"/leagues/\">seasons</a><ul class=li_margin id=\"header_leagues\"></ul></li><li><a href=\"/coaches/\">coaches</a><ul class=li_margin id=\"header_coaches\"></ul></li><li><a href=\"/leaders/\">leaders</a><ul class=li_margin id=\"header_leaders\"></ul></li><li><a href=\"/awards/\">awards</a><ul class=li_margin id=\"header_awards\"></ul></li><li><a href=\"/playoffs/\">playoffs</a><ul class=li_margin id=\"header_playoffs\"></ul></li><li><a href=\"/draft/\">draft</a><ul class=li_margin id=\"header_draft\"></ul></li><li><a href=\"/olympics/\">olympics</a><ul class=li_margin id=\"header_olympics\"></ul></li><li><a href=\"#\">more [+]</a><ul class=li_margin id=\"header_more_links\"></ul></li></ul></div><!-- div#quick_index --><div id=you_are_here><p class=padding_left0><a class=mobile_link href=\"http://m.bkref.com/\">Mobile Site</a> <span class=bold_text>You Are Here</span>&nbsp;&gt;&nbsp;<span itemscope itemtype=\"http://data-vocabulary.org/Breadcrumb\"><a itemprop=url href=\"/\"><span itemprop=title>BBR Home</span></a></span>&nbsp;&gt;&nbsp;<span itemscope itemtype=\"http://data-vocabulary.org/Breadcrumb\"><b><span itemprop=title>File Not Found</span></b></span></p></div><!-- div#quick_index --><div class=\"site_news\"><p><span class=\"bold_text\">News:</span> <span class=\"poptip\" tip=\"The NBA season is in full swing so our playoff and MVP probabilities pages are live. The playoff probabilities project the odds a team has of making the playoffs; while the MVP projections show the likelihood a given player has of winning MVP if voting happened today. On the playoff side, it looks like the [&#8230;]\">s-r blog:<a onClick=\"try { pageTracker._trackEvent(\\'blog\\',\\'click\\',\\'area-yah\\'); } catch (err) {};\"\\n href=\"http://www.sports-reference.com/blog/2015/11/2015-16-nba-playoff-and-mvp-probabilities/\">2015-16 NBA Playoff and MVP Probabilities</a> <span class=\"small_text\"></span></span></p></div>\\n</div><!-- div#top_nav -->\\n<div class=\"mobile_text\" id=\"page_content\">\\n<h1 class=\"page_title\">File Not Found</h1>\\n\\n<p>We apologize, but the file you searched for does not exist.  Use the search\\nbox above to look for a specific player or use the navigation menu to go\\nto another area\\'s index.</p>\\n\\n<p>Please <a href=\"/feedback/\">send us some feedback</a> if you believe\\nsomething is in error.</p>\\n<div id=\"sr_suppress_ads\"></div>\\n</div>\\n<!-- SR js files --><div id=sr_js></div><script type=\"text/javascript\">\\n(function () {var sr_js_file = \\'http://d2ft4b0ve1aur1.cloudfront.net/js-475/sr-bbr-min.js\\';if (sr_gzipEnabled) {sr_js_file = \\'http://d2ft4b0ve1aur1.cloudfront.net/js-475/sr-bbr-min.js.jgz\\';}var sr_script_tag = document.getElementById(\"sr_js\");if (sr_script_tag) {var sr_script = document.createElement(\"script\");sr_script.type = \"text/javascript\";sr_script.charset = \"utf-8\";sr_script.src = sr_js_file;sr_script_tag.appendChild(sr_script);}}());</script><!-- Google Analytics --><script>\\nvar sr_cookie = document.cookie;\\nString.prototype.sr_isMatch = function(s){\\n return this.match(s)!==null\\n}\\nfunction getCookie(name) {\\n var prefix = name + \"=\";\\n var begin = sr_cookie.indexOf(\"; \" + prefix);\\n if (begin == -1) {\\n begin = sr_cookie.indexOf(prefix);\\n if (begin != 0) return null;\\n }\\n else\\n {\\n begin += 2;\\n var end = document.cookie.indexOf(\";\", begin);\\n if (end == -1) {\\n end = sr_cookie.length;\\n }\\n }\\n return unescape(sr_cookie.substring(begin + prefix.length, end));\\n}\\nvar sr_cookie = getCookie(\\'SR_user\\') || \\'\\';\\nvar sr_is_ad_free = sr_cookie.sr_isMatch(\\'Z6SON8tTdJid\\');\\nvar sr_is_user = sr_cookie !== null && sr_cookie !== \\'\\';\\nvar sr_seen_modal = getCookie(\\'modal_ad\\') !== null;\\n(function(i,s,o,g,r,a,m){\\n i[\\'GoogleAnalyticsObject\\']=r;\\n i[r]=i[r]||function(){(i[r].q=i[r].q||[]).push(arguments)},i[r].l=1*new Date();\\n a=s.createElement(o),m=s.getElementsByTagName(o)[0];\\n a.async=1;\\n a.src=g;\\n m.parentNode.insertBefore(a,m)})(window,document,\\'script\\',\\'//www.google-analytics.com/analytics.js\\',\\'ga\\');\\nga(\\'create\\', \\'UA-1890630-2\\', \\'auto\\');\\nga(\\'require\\', \\'linkid\\', \\'linkid.js\\');\\nga(\\'require\\', \\'ecommerce\\', \\'ecommerce.js\\');\\nga(\\'send\\', \\'pageview\\');\\nvar trackOutboundLink = function(el, url) {\\n ga(\\'send\\', \\'event\\', \\'outbound\\', \\'click\\', url, {\\'hitCallback\\':\\n function () {\\n if (el.target == \\'_blank\\') {\\n return true;\\n } else {\\n setTimeout(function() { document.location = url; }, 50);\\n return false;\\n }\\n }\\n });\\n}\\n/**\\n * Manual callback handler\\n * false == no scroll to track from previous page\\n */\\n// The SR overall account.\\nga(\\'create\\', \\'UA-1890630-9\\', \\'auto\\', {\\'name\\': \\'sr_tracker\\', \\'allowLinker\\': true });  // New tracker.\\nga(\\'sr_tracker.require\\', \\'displayfeatures\\');\\nga(\\'sr_tracker.set\\', \\'dimension1\\',\\'bbr\\');\\nga(\\'sr_tracker.set\\', \\'dimension2\\',sr_is_ad_free);\\nga(\\'sr_tracker.set\\', \\'dimension3\\',sr_is_user);\\nga(\\'sr_tracker.set\\', \\'dimension4\\',sr_seen_modal);\\nga(\\'sr_tracker.send\\', \\'pageview\\');\\nvar linker;\\n// Cross browser way to listen for events.\\nfunction addListener(element, type, callback) {\\n if (element.addEventListener) element.addEventListener(type, callback);\\n else if (element.attachEvent) element.attachEvent(\\'on\\' + type, callback);\\n}\\nvar sr_links = document.getElementsByClassName(\"sr_link\");\\nArray.prototype.forEach.call(sr_links, function(el) {\\n // Do stuff with the element\\n addListener(el, \\'mousedown\\', decorateMe);\\n addListener(el, \\'keydown\\',   decorateMe);\\n});\\nfunction decorateMe(event) {\\n event = event || window.event;                            // Cross browser hoops.\\n var target = event.target || event.srcElement;\\n if (target && target.href) {                              // Ensure this is a link.\\n ga(function(tracker) {\\n var linker = new window.gaplugins.Linker(tracker);\\n var output = linker.decorate(target);\\n });\\n }\\n}\\n</script><!-- End Google Analytics --><!-- Facebook, and plus one pixels and buttons --><script type=\"text/javascript\">\\nfunction sr_fire_buttons () {if (document.getElementById(\\'sr_suppress_ads\\')) { return false; }// Facebook ///////////////////////////////////////////////\\nwindow.fbAsyncInit = function() {FB.init({appId: \\'154659497934788\\', status: true, cookie: true, xfbml: true, channelUrl  : \\'http://www.basketball-reference.com/inc/channel.php\\'});// track likes.\\nFB.Event.subscribe(\\'edge.create\\', function(targetUrl) {ga(\\'send\\', \\'social\\', \\'facebook\\', \\'like\\', targetUrl);});};var fb_root = document.getElementById(\\'fb-root\\');if (fb_root)\\n{var e = document.createElement(\\'script\\');e.type = \\'text/javascript\\';e.src = document.location.protocol + \\'//connect.facebook.net/en_US/all.js\\';e.async = true;fb_root.appendChild(e);}// plusone ///////////////////////////////////////////////\\nvar tag = document.createElement(\\'script\\');tag.type = \\'text/javascript\\';tag.async = true;tag.src = \\'https://apis.google.com/js/plusone.js\\';var s = document.getElementsByTagName(\\'script\\')[0];s.parentNode.insertBefore(tag, s);}</script><script type=\"text/javascript\">\\nsetTimeout(function(){sr_fire_buttons();  }, 0);</script><script src=\"http://network.yardbarker.com/network/ybn_pixel/12488\" type=\"text/javascript\"></script><script type=\"text/javascript\">\\n(function () {if (document.getElementById(\\'sr_suppress_ads\\')) { return false; }// Adiply rails ads\\nvar scr = document.createElement(\"script\");scr.setAttribute(\\'async\\', \\'true\\');scr.type = \"text/javascript\";scr.src = \"http://ad.adip.ly/dlvr/adiply_statmarg.min.js?site_id=SportsReference_AP&t=120\";((document.getElementsByTagName(\\'head\\') || [null])[0] ||\\ndocument.getElementsByTagName(\\'script\\')[0].parentNode).appendChild(scr);}());</script>\\n\\n\\n\\n\\n<script src=\"http://static.bbref.com/js/ads.js\"></script>\\n<script type=\"text/javascript\">\\n  if (typeof sr_test == \\'undefined\\') {\\n     document.write(\\'<img class=\"hidden\" src=\"http://static.spref.com/x.gif?obscured\">\\');\\n  } else {\\n    document.write(\\'<img class=\"hidden\" src=\"http://static.spref.com/x.gif?seen\">\\');\\n  }\\n</script>\\n\\n\\n\\n\\n\\n<div id=\"site_footer\">\\n<div id=\"taboola-below-article-thumbnails\"></div>\\n<style type=\"text/css\">#sr_pagebottom * { margin: 0px auto }</style>\\n<script type=\"text/javascript\">\\nif ((/play-index/.test(location.pathname)) ||\\n   (document.getElementById(\\'sr_suppress_ads\\')))\\n{\\n}\\nelse if (location.pathname != \\'/\\') {\\n   var choice = Math.random();\\n   var company = \\'\\';\\n   if (choice <= 0.10) {\\n       !function (e, f, u) {\\n       e.src = u;\\n       f.parentNode.insertBefore(e, f);\\n       }(document.createElement(\\'script\\'),\\n     document.getElementById(\\'taboola-below-article-thumbnails\\'),\\n     \\'http://pagead2.googlesyndication.com/pagead/js/adsbygoogle.js\\');\\n\\n       (adsbygoogle = window.adsbygoogle || []).push({});\\n\\n       //googletag.cmd.push(function() {\\n       // googletag.defineSlot(\\'/117033896/sr_pagebottom\\', [[970, 90],[728, 90]], \\'sr_pagebottom\\').addService(googletag.pubads());\\n       // googletag.pubads().set(\"adsense_channel_ids\", \"5516762052\");\\n       // googletag.enableServices();\\n       // });\\n       company = \\'google\\';\\n   } else {\\n       // taboola\\n       window._taboola = window._taboola || [];\\n       _taboola.push({article:\\'auto\\'});\\n       !function (e, f, u) {\\n       e.async = 1;\\n       e.src = u;\\n       f.parentNode.insertBefore(e, f);\\n       }(document.createElement(\\'script\\'),\\n     document.getElementsByTagName(\\'script\\')[0],\\n     \\'http://cdn.taboola.com/libtrc/sportsreference-network/loader.js\\');\\n       \\n       _taboola.push({\\n           mode: \\'thumbnails-b\\',\\n           container: \\'taboola-below-article-thumbnails\\',\\n           placement: \\'Below Article Thumbnails\\',\\n           target_type: \\'mix\\'\\n           });\\n       _taboola.push({flush: true});\\n       company = \\'taboola\\';\\n   }\\n\\n   //document.write(\\'<div class=\"xx_small_text\">choice: \\'+choice+\\':\\'+company+\\'</div>\\');\\n\\n}\\nelse {\\n    // for the front page.\\n   googletag.cmd.push(function() {\\n      googletag.defineSlot(\\'/5702/yb_Sports_Reference\\', [728,90], \\'sr_pagebottom\\').addService(googletag.pubads());\\n      googletag.enableServices();\\n  });\\n}\\n</script>\\n\\n<ins class=\"adsbygoogle\"\\n     style=\"display:inline-block;width:970px;height:90px\"\\n     data-ad-client=\"ca-pub-5319453360923253\"\\n     data-ad-slot=\"5975682851\"></ins>\\n\\n<!-- sr_pagebottom -->\\n<div id=\"sr_pagebottom\" style=\"width:970px; height:90px;\" class=\"margin_bottom\">\\n\\n<script type=\"text/javascript\">\\nif ((/play-index/.test(location.pathname)) ||\\n   (document.getElementById(\\'sr_suppress_ads\\')))\\n{\\n}\\nelse if (location.pathname == \\'/\\') {\\n   googletag.cmd.push(function() { googletag.display(\\'sr_pagebottom\\'); });\\n}\\n</script>\\n</div>\\n\\n\\n<div id=\"sr_footer\" class=\"margin_top\">\\nCopyright &copy; 2000-2015 <a href=\"http://www.sports-reference.com\">Sports\\nReference LLC</a>. All rights reserved.\\n\\n<form class=\"inline margin_left\" method=\"get\" name=\"f_footer\" action=\"/search/search.fcgi\">\\n<input x-webkit-speech type=\"text\" id=\"search_footer\" name=\"search\" class=\"search long\"> \\n<input type=\"submit\" value=\"Search\" class=\"submit\">\\n</form>\\n\\n<div class=\"margin_top large_text\"><a href=\"http://www.sports-reference.com/feedback/\">Question, Comment, Feedback or Correction?</a></div>\\n\\n<div class=\"margin_top\">Tools: <a href=\"/linker/\">Automatic Player Linker</a>&nbsp;|&nbsp;<a\\nhref=\"/friv/linkify.cgi\">Basic Player Linker</a></div>\\n\\n<div class=\"center margin_top\">\\n<p>Current season data provided by SportsDirect Inc.</p>\\n<a href=\"http://sportsdirectinc.com\" rel=\"nofollow\"><img src=\"http://d2ft4b0ve1aur1.cloudfront.net/images-436/sports-direct-275x35.png\"></a>\\n</div>\\n\\n<div class=\"blockquote clear_both margin_top\">\\nThe NBA identifications are used with the permission of NBA Properties, Inc.\\n</div>\\n\\n\\n\\n\\n<div class=\"blockquote clear_both margin_top\">\\n<a href=\"http://www.sports-reference.com/\">A Sports Reference Site</a>:\\n<a href=\"/about/\">About BBR</a>&nbsp;|\\n<a href=\"http://www.sports-reference.com/privacy.shtml\">Privacy Statement</a>&nbsp;|\\n<a href=\"http://www.sports-reference.com/termsofuse.shtml\">Conditions &amp; Terms of Service</a> | \\n<a href=\"http://www.sports-reference.com/data_use.shtml\">Use of Data</a>\\n</div>\\n<div class=\"clear_both align_center large_text bold_text margin\">Part of the <a rel=\"nofollow\" href=\"http://www.foxsports.com/\"><img alt=\"Fox Sports Engage Network\" align=\"top\" border=\"0\" width=\"300\" src=\"http://d3k2oh6evki4b7.cloudfront.net/images-012/engage.gif\" height=\"33\"></a> Network</div>\\n</div><!-- div#sr_footer -->\\n</div><!-- div#site_footer -->\\n\\n\\n</div><!-- div#page_container -->\\n\\n</body><!-- SR -->\\n</html>\\n'"
      ]
     },
     "execution_count": 82,
     "metadata": {},
     "output_type": "execute_result"
    }
   ],
   "source": [
    "html"
   ]
  },
  {
   "cell_type": "code",
   "execution_count": 83,
   "metadata": {
    "collapsed": true
   },
   "outputs": [],
   "source": [
    "soup = BeautifulSoup(html,'html.parser')"
   ]
  },
  {
   "cell_type": "code",
   "execution_count": 84,
   "metadata": {
    "collapsed": false
   },
   "outputs": [
    {
     "data": {
      "text/plain": [
       "<!DOCTYPE html>\n",
       "<html data-version=\"the-magglio-420\" itemscope=\"\" itemtype=\"http://schema.org/website\" lang=\"en\" xmlns:fb=\"http://www.facebook.com/2008/fbml\" xmlns:og=\"http://opengraphprotocol.org/schema/\"><head><title>File Not Found | Basketball-Reference.com</title><link href=\"http://d2ft4b0ve1aur1.cloudfront.net\" rel=\"dns-prefetch\"/><link href=\"http://m.bkref.com\" rel=\"dns-prefetch\"/>\n",
       "<link href=\"http://d2ft4b0ve1aur1.cloudfront.net/js-475/sr-bbr-min.js.jgz\" rel=\"subresource\"/><script type=\"text/javascript\">var sr_gzipEnabled = false; var sr_js_loader = new Array();</script><script src=\"http://d2ft4b0ve1aur1.cloudfront.net/js-100/sr.gzipcheck.js.jgz\" type=\"text/javascript\"></script><noscript><link href=\"http://d2ft4b0ve1aur1.cloudfront.net/css-475/sr-bbr-min.css\" rel=\"stylesheet\" type=\"text/css\"/></noscript><script type=\"text/javascript\">\n",
       "(function () {var sr_css_file = 'http://d2ft4b0ve1aur1.cloudfront.net/css-475/sr-bbr-min.css';if (sr_gzipEnabled) {sr_css_file = 'http://d2ft4b0ve1aur1.cloudfront.net/css-475/sr-bbr-min-gz.css';}var head = document.getElementsByTagName(\"head\")[0];if (head) {var scriptStyles = document.createElement(\"link\");scriptStyles.rel = \"stylesheet\";scriptStyles.type = \"text/css\";scriptStyles.href = sr_css_file;head.appendChild(scriptStyles);}}());</script><!-- tiles, touch, favicons --><link href=\"http://d2ft4b0ve1aur1.cloudfront.net/images-475/apple-touch-icon-152x152-bbr-precomposed.png\" rel=\"apple-touch-icon-precomposed\" sizes=\"152x152\"><link href=\"http://d2ft4b0ve1aur1.cloudfront.net/images-475/apple-touch-icon-144x144-bbr-precomposed.png\" rel=\"apple-touch-icon-precomposed\" sizes=\"144x144\"><link href=\"http://d2ft4b0ve1aur1.cloudfront.net/images-475/apple-touch-icon-120x120-bbr-precomposed.png\" rel=\"apple-touch-icon-precomposed\" sizes=\"120x120\"><link href=\"http://d2ft4b0ve1aur1.cloudfront.net/images-475/apple-touch-icon-114x114-bbr-precomposed.png\" rel=\"apple-touch-icon-precomposed\" sizes=\"114x114\"><link href=\"http://d2ft4b0ve1aur1.cloudfront.net/images-475/apple-touch-icon-76x76-bbr-precomposed.png\" rel=\"apple-touch-icon-precomposed\" sizes=\"76x76\"><link href=\"http://d2ft4b0ve1aur1.cloudfront.net/images-475/apple-touch-icon-72x72-bbr-precomposed.png\" rel=\"apple-touch-icon-precomposed\" sizes=\"72x72\"><link href=\"http://d2ft4b0ve1aur1.cloudfront.net/images-475/apple-touch-icon-bbr-precomposed.png\" rel=\"apple-touch-icon-precomposed\"><link href=\"http://d2ft4b0ve1aur1.cloudfront.net/images-475/favicon_bbr.png\" rel=\"icon\"><!--[if IE]><link rel=\"shortcut icon\" href=\"http://d2ft4b0ve1aur1.cloudfront.net/images-475/favicon_bbr.ico\"><![endif]--><meta content=\"#ffffff\" name=\"msapplication-TileColor\"/><meta content=\"http://d2ft4b0ve1aur1.cloudfront.net/images-475/ms-tile-144-bbr.png\" name=\"msapplication-TileImage\"/><link href=\"http://d2ft4b0ve1aur1.cloudfront.net/os-475/opensearch-bbr.xml\" rel=\"search\" title=\"B-Ref Search\" type=\"application/opensearchdescription+xml\"><!--[if lte IE 7 ]><style type=\"text/css\">\n",
       ".uni_holder { display: none; }\n",
       "</style><![endif]--><!--[if lte IE 6]><style type=\"text/css\">\n",
       ".hovermenu,.hovermenu_ajax,.sub_index,#quick_index {display:none!important}\n",
       "</style><![endif]-->\n",
       "<!--  ASYNCHRONOUS:googletag --><script type=\"text/javascript\">\n",
       "var googletag = googletag || {};googletag.cmd = googletag.cmd || [];(function() {var gads = document.createElement('script');gads.async = true;gads.type = 'text/javascript';var useSSL = 'https:' == document.location.protocol;gads.src = (useSSL ? 'https:' : 'http:') + '//www.googletagservices.com/tag/js/gpt.js';var node = document.getElementsByTagName('script')[0];node.parentNode.insertBefore(gads, node);})();</script><meta content=\"\" name=\"keywords\"><meta content=\"34208645\" property=\"fb:admins\"><meta content=\"35120246404\" property=\"fb:page_id\"><meta content=\"Basketball-Reference.com\" property=\"og:site_name\"><meta content=\"http://d2ft4b0ve1aur1.cloudfront.net/images-377/Basketball-Ref.png\" property=\"og:image\"><meta content=\"http://d2ft4b0ve1aur1.cloudfront.net/images-377/Basketball-Ref.png\" itemprop=\"image\"><meta content=\"summary\" name=\"twitter:card\"><meta content=\"@bball_ref\" name=\"twitter:site\"><meta content=\"@bball_ref\" name=\"twitter:creator\"><meta content=\"File Not Found | Basketball-Reference.com\" name=\"twitter:title\"><meta content=\"Stats and results for players, teams, leaders and scores from the first game ever to yesterday\" name=\"twitter:description\"><meta content=\"\" name=\"twitter:image\"><meta content=\"\" name=\"twitter:image:width\"><meta content=\"\" name=\"twitter:image:height\"><meta content=\"http://www.basketball-reference.com\" name=\"twitter:url\"><meta content=\"Basketball-Reference.com\" name=\"twitter:domain\"/></meta></meta></meta></meta></meta></meta></meta></meta></meta></meta></meta></meta></meta></meta></meta></link></link></link></link></link></link></link></link></link></head><body onload=\"\"><div id=\"page_container\"><div id=\"top_nav\"><!--BEGIN QUALTRICS SITE INTERCEPT-->\n",
       "<script type=\"text/javascript\">\n",
       "(function(){var g=function(e,h,f,g){\n",
       "this.get=function(a){for(var a=a+\"=\",c=document.cookie.split(\";\"),b=0,e=c.length;b<e;b++){for(var d=c[b];\" \"==d.charAt(0);)d=d.substring(1,d.length);if(0==d.indexOf(a))return d.substring(a.length,d.length)}return null};\n",
       "this.set=function(a,c){var b=\"\",b=new Date;b.setTime(b.getTime()+6048E5);b=\"; expires=\"+b.toGMTString();document.cookie=a+\"=\"+c+b+\"; path=/; \"};\n",
       "this.check=function(){var a=this.get(f);if(a)a=a.split(\":\");else if(100!=e)\"v\"==h&&(e=Math.random()>=e/100?0:100),a=[h,e,0],this.set(f,a.join(\":\"));else return!0;var c=a[1];if(100==c)return!0;switch(a[0]){case \"v\":return!1;case \"r\":return c=a[2]%Math.floor(100/c),a[2]++,this.set(f,a.join(\":\")),!c}return!0};\n",
       "this.go=function(){if(this.check()){var a=document.createElement(\"script\");a.type=\"text/javascript\";a.src=g+ \"&t=\" + (new Date()).getTime();document.body&&document.body.appendChild(a)}};\n",
       "this.start=function(){var a=this;window.addEventListener?window.addEventListener(\"load\",function(){a.go()},!1):window.attachEvent&&window.attachEvent(\"onload\",function(){a.go()})}};\n",
       "try{(new g(100,\"r\",\"QSI_S_SI_3CWPKrI10k7ANBX\",\"//zncvfm2dltswdzell-farris.siteintercept.qualtrics.com/WRSiteInterceptEngine/?Q_SIID=SI_3CWPKrI10k7ANBX&Q_LOC=\"+encodeURIComponent(window.location.href))).start()}catch(i){}})();\n",
       "</script><div id=\"SI_3CWPKrI10k7ANBX\"><!--DO NOT REMOVE-CONTENTS PLACED HERE--></div>\n",
       "<!--END SITE INTERCEPT-->\n",
       "<div id=\"sr_site_dir\">\n",
       "<a href=\"http://www.sports-reference.com\">Sports-Reference</a>:\n",
       " <a href=\"http://www.baseball-reference.com\">Baseball</a> ·\n",
       " <span class=\"bold_text\">Basketball</span>\n",
       "(<a href=\"http://www.sports-reference.com/cbb/\">college</a>) ·\n",
       " <a href=\"http://www.pro-football-reference.com\">Football</a>\n",
       "(<a href=\"http://www.sports-reference.com/cfb/\">college</a>) ·\n",
       " <a href=\"http://www.hockey-reference.com/\">Hockey</a> ·\n",
       " <a href=\"http://www.sports-reference.com/olympics/\">Olympics</a> ·\n",
       " <a href=\"http://www.sports-reference.com/blog/\">S-R Blog</a> ·\n",
       " <a href=\"http://www.sports-reference.com/feedback/\">Question or Comment?</a>\n",
       "</div><!-- div#sr_site_dir -->\n",
       "<div id=\"site_header\">\n",
       "<div id=\"sr_header\">\n",
       "<div class=\"float_right clear_right\" id=\"sr_header_right_float\">\n",
       "<div class=\"float_right\">\n",
       "<div class=\"margin0 padding_bottom_half float_right poptip\" id=\"welcome\" tip=\"Review the details of your account\"><span class=\"greeting\"></span><a class=\"acct_external\" href=\"/my/auth.cgi\"></a> </div>\n",
       "<div class=\"clear_both padding_bottom_half\">\n",
       "<span class=\"badge ui-corner-all colors like_a logged_out\" id=\"login_placeholder\" onclick=\"return sr_login_popup();\" style=\"display:none;\">LOGIN<span id=\"loginform_container\"></span></span>\n",
       "<span class=\"badge ui-corner-all colors like_a logged_in\" onclick=\"return sr_logout();\">LOGOUT</span>\n",
       "<span class=\"badge ui-corner-all tooltip disabled_badge like_a is_sponsor\" onclick=\"document.location.href='/my/auth.cgi?do=sponsor'\" tip=\"Sponsor a page on Basketball-Reference.com\">SPONSOR</span>\n",
       "<span class=\"badge ui-corner-all tooltip disabled_badge like_a ad_free\" onclick=\"document.location.href='/my/auth.cgi?do=ad_free_browsing'\" tip=\"Surf Sports Reference Ad Free\">AD FREE</span>\n",
       "<span> </span>\n",
       "</div>\n",
       "</div>\n",
       "<div class=\"clearfix float_right clear_both\">\n",
       "<div class=\"padding_left_half float_right\"><a class=\"sprite-twitter\" href=\"http://twitter.com/bball_ref\" title=\"Follow us on Twitter\"></a><a class=\"sprite-facebook\" href=\"http://www.facebook.com/Basketball.Reference\" title=\"Become a Fan on FaceBook\"></a><a class=\"sprite-youtube\" href=\"http://www.youtube.com/user/sportsreference\" title=\"Sports Reference Instructional Videos\"></a></div>\n",
       "<div class=\"float_right\">\n",
       "<form action=\"/search/search.fcgi\" id=\"f\" name=\"f\">\n",
       "<input class=\"search long typeahead\" id=\"search\" name=\"search\" placeholder=\"click 'Tips' for shortcuts\" type=\"search\" x-webkit-speech=\"\">\n",
       "<input data-search-id=\"\" name=\"results\" type=\"hidden\" value=\"\">\n",
       "<input class=\"submit\" type=\"submit\" value=\"Search\">\n",
       "<a class=\"padding_left_half small_text\" href=\"/about/findstuff.shtml?lid=homepage_tips\">Tips</a>\n",
       "</input></input></input></form>\n",
       "</div>\n",
       "</div>\n",
       "</div><!-- div#sr_header_right_float -->\n",
       "</div><!-- div#sr_header -->\n",
       "<div class=\"float_left\">\n",
       "<div class=\"clear_left float_left padding_top padding_bottom_half\"><a href=\"/?lid=homepage_logo\"><img alt=\"Basketball-Reference.com\" border=\"0\" height=\"73\" src=\"http://d2ft4b0ve1aur1.cloudfront.net/images-370/Basketball-Ref.png\" width=\"464\"/></a>\n",
       "</div>\n",
       "</div>\n",
       "</div><!-- div#site_header -->\n",
       "<div id=\"quick_index\"><ul class=\"hovermenu_ajax navbar\"><li><a href=\"/play-index/\">play index</a><ul class=\"li_margin\" id=\"header_playindex\"></ul></li><li><a href=\"/boxscores/\">box scores</a><ul id=\"header_boxscores\"></ul></li><li><a href=\"/players/\">players</a><ul class=\"li_margin\" id=\"header_players\"></ul></li><li><a href=\"/teams/\">teams</a><ul id=\"header_teams\"></ul></li><li><a href=\"/leagues/\">seasons</a><ul class=\"li_margin\" id=\"header_leagues\"></ul></li><li><a href=\"/coaches/\">coaches</a><ul class=\"li_margin\" id=\"header_coaches\"></ul></li><li><a href=\"/leaders/\">leaders</a><ul class=\"li_margin\" id=\"header_leaders\"></ul></li><li><a href=\"/awards/\">awards</a><ul class=\"li_margin\" id=\"header_awards\"></ul></li><li><a href=\"/playoffs/\">playoffs</a><ul class=\"li_margin\" id=\"header_playoffs\"></ul></li><li><a href=\"/draft/\">draft</a><ul class=\"li_margin\" id=\"header_draft\"></ul></li><li><a href=\"/olympics/\">olympics</a><ul class=\"li_margin\" id=\"header_olympics\"></ul></li><li><a href=\"#\">more [+]</a><ul class=\"li_margin\" id=\"header_more_links\"></ul></li></ul></div><!-- div#quick_index --><div id=\"you_are_here\"><p class=\"padding_left0\"><a class=\"mobile_link\" href=\"http://m.bkref.com/\">Mobile Site</a> <span class=\"bold_text\">You Are Here</span> &gt; <span itemscope=\"\" itemtype=\"http://data-vocabulary.org/Breadcrumb\"><a href=\"/\" itemprop=\"url\"><span itemprop=\"title\">BBR Home</span></a></span> &gt; <span itemscope=\"\" itemtype=\"http://data-vocabulary.org/Breadcrumb\"><b><span itemprop=\"title\">File Not Found</span></b></span></p></div><!-- div#quick_index --><div class=\"site_news\"><p><span class=\"bold_text\">News:</span> <span class=\"poptip\" tip=\"The NBA season is in full swing so our playoff and MVP probabilities pages are live. The playoff probabilities project the odds a team has of making the playoffs; while the MVP projections show the likelihood a given player has of winning MVP if voting happened today. On the playoff side, it looks like the […]\">s-r blog:<a href=\"http://www.sports-reference.com/blog/2015/11/2015-16-nba-playoff-and-mvp-probabilities/\" onclick=\"try { pageTracker._trackEvent('blog','click','area-yah'); } catch (err) {};\">2015-16 NBA Playoff and MVP Probabilities</a> <span class=\"small_text\"></span></span></p></div>\n",
       "</div><!-- div#top_nav -->\n",
       "<div class=\"mobile_text\" id=\"page_content\">\n",
       "<h1 class=\"page_title\">File Not Found</h1>\n",
       "<p>We apologize, but the file you searched for does not exist.  Use the search\n",
       "box above to look for a specific player or use the navigation menu to go\n",
       "to another area's index.</p>\n",
       "<p>Please <a href=\"/feedback/\">send us some feedback</a> if you believe\n",
       "something is in error.</p>\n",
       "<div id=\"sr_suppress_ads\"></div>\n",
       "</div>\n",
       "<!-- SR js files --><div id=\"sr_js\"></div><script type=\"text/javascript\">\n",
       "(function () {var sr_js_file = 'http://d2ft4b0ve1aur1.cloudfront.net/js-475/sr-bbr-min.js';if (sr_gzipEnabled) {sr_js_file = 'http://d2ft4b0ve1aur1.cloudfront.net/js-475/sr-bbr-min.js.jgz';}var sr_script_tag = document.getElementById(\"sr_js\");if (sr_script_tag) {var sr_script = document.createElement(\"script\");sr_script.type = \"text/javascript\";sr_script.charset = \"utf-8\";sr_script.src = sr_js_file;sr_script_tag.appendChild(sr_script);}}());</script><!-- Google Analytics --><script>\n",
       "var sr_cookie = document.cookie;\n",
       "String.prototype.sr_isMatch = function(s){\n",
       " return this.match(s)!==null\n",
       "}\n",
       "function getCookie(name) {\n",
       " var prefix = name + \"=\";\n",
       " var begin = sr_cookie.indexOf(\"; \" + prefix);\n",
       " if (begin == -1) {\n",
       " begin = sr_cookie.indexOf(prefix);\n",
       " if (begin != 0) return null;\n",
       " }\n",
       " else\n",
       " {\n",
       " begin += 2;\n",
       " var end = document.cookie.indexOf(\";\", begin);\n",
       " if (end == -1) {\n",
       " end = sr_cookie.length;\n",
       " }\n",
       " }\n",
       " return unescape(sr_cookie.substring(begin + prefix.length, end));\n",
       "}\n",
       "var sr_cookie = getCookie('SR_user') || '';\n",
       "var sr_is_ad_free = sr_cookie.sr_isMatch('Z6SON8tTdJid');\n",
       "var sr_is_user = sr_cookie !== null && sr_cookie !== '';\n",
       "var sr_seen_modal = getCookie('modal_ad') !== null;\n",
       "(function(i,s,o,g,r,a,m){\n",
       " i['GoogleAnalyticsObject']=r;\n",
       " i[r]=i[r]||function(){(i[r].q=i[r].q||[]).push(arguments)},i[r].l=1*new Date();\n",
       " a=s.createElement(o),m=s.getElementsByTagName(o)[0];\n",
       " a.async=1;\n",
       " a.src=g;\n",
       " m.parentNode.insertBefore(a,m)})(window,document,'script','//www.google-analytics.com/analytics.js','ga');\n",
       "ga('create', 'UA-1890630-2', 'auto');\n",
       "ga('require', 'linkid', 'linkid.js');\n",
       "ga('require', 'ecommerce', 'ecommerce.js');\n",
       "ga('send', 'pageview');\n",
       "var trackOutboundLink = function(el, url) {\n",
       " ga('send', 'event', 'outbound', 'click', url, {'hitCallback':\n",
       " function () {\n",
       " if (el.target == '_blank') {\n",
       " return true;\n",
       " } else {\n",
       " setTimeout(function() { document.location = url; }, 50);\n",
       " return false;\n",
       " }\n",
       " }\n",
       " });\n",
       "}\n",
       "/**\n",
       " * Manual callback handler\n",
       " * false == no scroll to track from previous page\n",
       " */\n",
       "// The SR overall account.\n",
       "ga('create', 'UA-1890630-9', 'auto', {'name': 'sr_tracker', 'allowLinker': true });  // New tracker.\n",
       "ga('sr_tracker.require', 'displayfeatures');\n",
       "ga('sr_tracker.set', 'dimension1','bbr');\n",
       "ga('sr_tracker.set', 'dimension2',sr_is_ad_free);\n",
       "ga('sr_tracker.set', 'dimension3',sr_is_user);\n",
       "ga('sr_tracker.set', 'dimension4',sr_seen_modal);\n",
       "ga('sr_tracker.send', 'pageview');\n",
       "var linker;\n",
       "// Cross browser way to listen for events.\n",
       "function addListener(element, type, callback) {\n",
       " if (element.addEventListener) element.addEventListener(type, callback);\n",
       " else if (element.attachEvent) element.attachEvent('on' + type, callback);\n",
       "}\n",
       "var sr_links = document.getElementsByClassName(\"sr_link\");\n",
       "Array.prototype.forEach.call(sr_links, function(el) {\n",
       " // Do stuff with the element\n",
       " addListener(el, 'mousedown', decorateMe);\n",
       " addListener(el, 'keydown',   decorateMe);\n",
       "});\n",
       "function decorateMe(event) {\n",
       " event = event || window.event;                            // Cross browser hoops.\n",
       " var target = event.target || event.srcElement;\n",
       " if (target && target.href) {                              // Ensure this is a link.\n",
       " ga(function(tracker) {\n",
       " var linker = new window.gaplugins.Linker(tracker);\n",
       " var output = linker.decorate(target);\n",
       " });\n",
       " }\n",
       "}\n",
       "</script><!-- End Google Analytics --><!-- Facebook, and plus one pixels and buttons --><script type=\"text/javascript\">\n",
       "function sr_fire_buttons () {if (document.getElementById('sr_suppress_ads')) { return false; }// Facebook ///////////////////////////////////////////////\n",
       "window.fbAsyncInit = function() {FB.init({appId: '154659497934788', status: true, cookie: true, xfbml: true, channelUrl  : 'http://www.basketball-reference.com/inc/channel.php'});// track likes.\n",
       "FB.Event.subscribe('edge.create', function(targetUrl) {ga('send', 'social', 'facebook', 'like', targetUrl);});};var fb_root = document.getElementById('fb-root');if (fb_root)\n",
       "{var e = document.createElement('script');e.type = 'text/javascript';e.src = document.location.protocol + '//connect.facebook.net/en_US/all.js';e.async = true;fb_root.appendChild(e);}// plusone ///////////////////////////////////////////////\n",
       "var tag = document.createElement('script');tag.type = 'text/javascript';tag.async = true;tag.src = 'https://apis.google.com/js/plusone.js';var s = document.getElementsByTagName('script')[0];s.parentNode.insertBefore(tag, s);}</script><script type=\"text/javascript\">\n",
       "setTimeout(function(){sr_fire_buttons();  }, 0);</script><script src=\"http://network.yardbarker.com/network/ybn_pixel/12488\" type=\"text/javascript\"></script><script type=\"text/javascript\">\n",
       "(function () {if (document.getElementById('sr_suppress_ads')) { return false; }// Adiply rails ads\n",
       "var scr = document.createElement(\"script\");scr.setAttribute('async', 'true');scr.type = \"text/javascript\";scr.src = \"http://ad.adip.ly/dlvr/adiply_statmarg.min.js?site_id=SportsReference_AP&t=120\";((document.getElementsByTagName('head') || [null])[0] ||\n",
       "document.getElementsByTagName('script')[0].parentNode).appendChild(scr);}());</script>\n",
       "<script src=\"http://static.bbref.com/js/ads.js\"></script>\n",
       "<script type=\"text/javascript\">\n",
       "  if (typeof sr_test == 'undefined') {\n",
       "     document.write('<img class=\"hidden\" src=\"http://static.spref.com/x.gif?obscured\">');\n",
       "  } else {\n",
       "    document.write('<img class=\"hidden\" src=\"http://static.spref.com/x.gif?seen\">');\n",
       "  }\n",
       "</script>\n",
       "<div id=\"site_footer\">\n",
       "<div id=\"taboola-below-article-thumbnails\"></div>\n",
       "<style type=\"text/css\">#sr_pagebottom * { margin: 0px auto }</style>\n",
       "<script type=\"text/javascript\">\n",
       "if ((/play-index/.test(location.pathname)) ||\n",
       "   (document.getElementById('sr_suppress_ads')))\n",
       "{\n",
       "}\n",
       "else if (location.pathname != '/') {\n",
       "   var choice = Math.random();\n",
       "   var company = '';\n",
       "   if (choice <= 0.10) {\n",
       "       !function (e, f, u) {\n",
       "       e.src = u;\n",
       "       f.parentNode.insertBefore(e, f);\n",
       "       }(document.createElement('script'),\n",
       "     document.getElementById('taboola-below-article-thumbnails'),\n",
       "     'http://pagead2.googlesyndication.com/pagead/js/adsbygoogle.js');\n",
       "\n",
       "       (adsbygoogle = window.adsbygoogle || []).push({});\n",
       "\n",
       "       //googletag.cmd.push(function() {\n",
       "       // googletag.defineSlot('/117033896/sr_pagebottom', [[970, 90],[728, 90]], 'sr_pagebottom').addService(googletag.pubads());\n",
       "       // googletag.pubads().set(\"adsense_channel_ids\", \"5516762052\");\n",
       "       // googletag.enableServices();\n",
       "       // });\n",
       "       company = 'google';\n",
       "   } else {\n",
       "       // taboola\n",
       "       window._taboola = window._taboola || [];\n",
       "       _taboola.push({article:'auto'});\n",
       "       !function (e, f, u) {\n",
       "       e.async = 1;\n",
       "       e.src = u;\n",
       "       f.parentNode.insertBefore(e, f);\n",
       "       }(document.createElement('script'),\n",
       "     document.getElementsByTagName('script')[0],\n",
       "     'http://cdn.taboola.com/libtrc/sportsreference-network/loader.js');\n",
       "       \n",
       "       _taboola.push({\n",
       "           mode: 'thumbnails-b',\n",
       "           container: 'taboola-below-article-thumbnails',\n",
       "           placement: 'Below Article Thumbnails',\n",
       "           target_type: 'mix'\n",
       "           });\n",
       "       _taboola.push({flush: true});\n",
       "       company = 'taboola';\n",
       "   }\n",
       "\n",
       "   //document.write('<div class=\"xx_small_text\">choice: '+choice+':'+company+'</div>');\n",
       "\n",
       "}\n",
       "else {\n",
       "    // for the front page.\n",
       "   googletag.cmd.push(function() {\n",
       "      googletag.defineSlot('/5702/yb_Sports_Reference', [728,90], 'sr_pagebottom').addService(googletag.pubads());\n",
       "      googletag.enableServices();\n",
       "  });\n",
       "}\n",
       "</script>\n",
       "<ins class=\"adsbygoogle\" data-ad-client=\"ca-pub-5319453360923253\" data-ad-slot=\"5975682851\" style=\"display:inline-block;width:970px;height:90px\"></ins>\n",
       "<!-- sr_pagebottom -->\n",
       "<div class=\"margin_bottom\" id=\"sr_pagebottom\" style=\"width:970px; height:90px;\">\n",
       "<script type=\"text/javascript\">\n",
       "if ((/play-index/.test(location.pathname)) ||\n",
       "   (document.getElementById('sr_suppress_ads')))\n",
       "{\n",
       "}\n",
       "else if (location.pathname == '/') {\n",
       "   googletag.cmd.push(function() { googletag.display('sr_pagebottom'); });\n",
       "}\n",
       "</script>\n",
       "</div>\n",
       "<div class=\"margin_top\" id=\"sr_footer\">\n",
       "Copyright © 2000-2015 <a href=\"http://www.sports-reference.com\">Sports\n",
       "Reference LLC</a>. All rights reserved.\n",
       "\n",
       "<form action=\"/search/search.fcgi\" class=\"inline margin_left\" method=\"get\" name=\"f_footer\">\n",
       "<input class=\"search long\" id=\"search_footer\" name=\"search\" type=\"text\" x-webkit-speech=\"\">\n",
       "<input class=\"submit\" type=\"submit\" value=\"Search\">\n",
       "</input></input></form>\n",
       "<div class=\"margin_top large_text\"><a href=\"http://www.sports-reference.com/feedback/\">Question, Comment, Feedback or Correction?</a></div>\n",
       "<div class=\"margin_top\">Tools: <a href=\"/linker/\">Automatic Player Linker</a> | <a href=\"/friv/linkify.cgi\">Basic Player Linker</a></div>\n",
       "<div class=\"center margin_top\">\n",
       "<p>Current season data provided by SportsDirect Inc.</p>\n",
       "<a href=\"http://sportsdirectinc.com\" rel=\"nofollow\"><img src=\"http://d2ft4b0ve1aur1.cloudfront.net/images-436/sports-direct-275x35.png\"/></a>\n",
       "</div>\n",
       "<div class=\"blockquote clear_both margin_top\">\n",
       "The NBA identifications are used with the permission of NBA Properties, Inc.\n",
       "</div>\n",
       "<div class=\"blockquote clear_both margin_top\">\n",
       "<a href=\"http://www.sports-reference.com/\">A Sports Reference Site</a>:\n",
       "<a href=\"/about/\">About BBR</a> |\n",
       "<a href=\"http://www.sports-reference.com/privacy.shtml\">Privacy Statement</a> |\n",
       "<a href=\"http://www.sports-reference.com/termsofuse.shtml\">Conditions &amp; Terms of Service</a> | \n",
       "<a href=\"http://www.sports-reference.com/data_use.shtml\">Use of Data</a>\n",
       "</div>\n",
       "<div class=\"clear_both align_center large_text bold_text margin\">Part of the <a href=\"http://www.foxsports.com/\" rel=\"nofollow\"><img align=\"top\" alt=\"Fox Sports Engage Network\" border=\"0\" height=\"33\" src=\"http://d3k2oh6evki4b7.cloudfront.net/images-012/engage.gif\" width=\"300\"/></a> Network</div>\n",
       "</div><!-- div#sr_footer -->\n",
       "</div><!-- div#site_footer -->\n",
       "</div><!-- div#page_container -->\n",
       "</body><!-- SR -->\n",
       "</html>"
      ]
     },
     "execution_count": 84,
     "metadata": {},
     "output_type": "execute_result"
    }
   ],
   "source": [
    "soup"
   ]
  },
  {
   "cell_type": "code",
   "execution_count": 85,
   "metadata": {
    "collapsed": false
   },
   "outputs": [],
   "source": [
    "team_stats=soup.find(\"table\",id=\"salaries\")\n"
   ]
  },
  {
   "cell_type": "code",
   "execution_count": 86,
   "metadata": {
    "collapsed": false
   },
   "outputs": [],
   "source": [
    "team_stats"
   ]
  },
  {
   "cell_type": "code",
   "execution_count": 87,
   "metadata": {
    "collapsed": false
   },
   "outputs": [
    {
     "ename": "AttributeError",
     "evalue": "'NoneType' object has no attribute 'find_all'",
     "output_type": "error",
     "traceback": [
      "\u001b[0;31m---------------------------------------------------------------------------\u001b[0m",
      "\u001b[0;31mAttributeError\u001b[0m                            Traceback (most recent call last)",
      "\u001b[0;32m<ipython-input-87-fe58c026d736>\u001b[0m in \u001b[0;36m<module>\u001b[0;34m()\u001b[0m\n\u001b[0;32m----> 1\u001b[0;31m \u001b[0mdata\u001b[0m \u001b[0;34m=\u001b[0m \u001b[0mteam_stats\u001b[0m\u001b[0;34m.\u001b[0m\u001b[0mfind_all\u001b[0m\u001b[0;34m(\u001b[0m\u001b[0;34m\"tr\"\u001b[0m\u001b[0;34m)\u001b[0m\u001b[0;34m\u001b[0m\u001b[0m\n\u001b[0m\u001b[1;32m      2\u001b[0m \u001b[0;34m\u001b[0m\u001b[0m\n\u001b[1;32m      3\u001b[0m \u001b[0mnew_data\u001b[0m \u001b[0;34m=\u001b[0m \u001b[0;34m[\u001b[0m\u001b[0;34m]\u001b[0m\u001b[0;34m\u001b[0m\u001b[0m\n\u001b[1;32m      4\u001b[0m \u001b[0;34m\u001b[0m\u001b[0m\n\u001b[1;32m      5\u001b[0m \u001b[0;32mfor\u001b[0m \u001b[0mi\u001b[0m \u001b[0;32min\u001b[0m \u001b[0mdata\u001b[0m\u001b[0;34m:\u001b[0m\u001b[0;34m\u001b[0m\u001b[0m\n",
      "\u001b[0;31mAttributeError\u001b[0m: 'NoneType' object has no attribute 'find_all'"
     ]
    }
   ],
   "source": [
    "data = team_stats.find_all(\"tr\")\n",
    "\n",
    "new_data = []\n",
    "\n",
    "for i in data:\n",
    "    new_data.append(i.text)"
   ]
  },
  {
   "cell_type": "code",
   "execution_count": 88,
   "metadata": {
    "collapsed": false
   },
   "outputs": [],
   "source": [
    "new_data2 = []\n",
    "for i in new_data:\n",
    "    new_data2.append((i.replace('\\n',',')).split(',', 3))\n",
    "new_data2\n",
    "new_data3 = [ x[1:] for x in new_data2]"
   ]
  },
  {
   "cell_type": "code",
   "execution_count": 89,
   "metadata": {
    "collapsed": false
   },
   "outputs": [
    {
     "data": {
      "text/plain": [
       "[[u'Rk', u'Player', u'Salary,'],\n",
       " [u'1', u'Klay Thompson', u'$15,500,000,'],\n",
       " [u'2', u'Draymond Green', u'$14,300,000,'],\n",
       " [u'3', u'Andrew Bogut', u'$12,000,000,'],\n",
       " [u'4', u'Andre Iguodala', u'$11,710,456,'],\n",
       " [u'5', u'Stephen Curry', u'$11,370,786,'],\n",
       " [u'6', u'Jason Thompson', u'$6,431,250,'],\n",
       " [u'7', u'Shaun Livingston', u'$5,543,725,'],\n",
       " [u'8', u'Harrison Barnes', u'$3,873,398,'],\n",
       " [u'9', u'Marreese Speights', u'$3,815,000,'],\n",
       " [u'10', u'Leandro Barbosa', u'$2,500,000,'],\n",
       " [u'11', u'Festus Ezeli', u'$2,008,748,'],\n",
       " [u'12', u'Brandon Rush', u'$1,270,964,'],\n",
       " [u'13', u'Kevon Looney', u'$1,131,960,'],\n",
       " [u'14', u'Ian Clark', u'$947,276,'],\n",
       " [u'15', u'James Michael McAdoo', u'$845,059,']]"
      ]
     },
     "execution_count": 89,
     "metadata": {},
     "output_type": "execute_result"
    }
   ],
   "source": [
    "new_data3"
   ]
  },
  {
   "cell_type": "code",
   "execution_count": 90,
   "metadata": {
    "collapsed": false
   },
   "outputs": [
    {
     "data": {
      "text/plain": [
       "[[u'Rk', u'Player', u'Salary'],\n",
       " [u'1', u'Klay Thompson', u'15500000'],\n",
       " [u'2', u'Draymond Green', u'14300000'],\n",
       " [u'3', u'Andrew Bogut', u'12000000'],\n",
       " [u'4', u'Andre Iguodala', u'11710456'],\n",
       " [u'5', u'Stephen Curry', u'11370786'],\n",
       " [u'6', u'Jason Thompson', u'6431250'],\n",
       " [u'7', u'Shaun Livingston', u'5543725'],\n",
       " [u'8', u'Harrison Barnes', u'3873398'],\n",
       " [u'9', u'Marreese Speights', u'3815000'],\n",
       " [u'10', u'Leandro Barbosa', u'2500000'],\n",
       " [u'11', u'Festus Ezeli', u'2008748'],\n",
       " [u'12', u'Brandon Rush', u'1270964'],\n",
       " [u'13', u'Kevon Looney', u'1131960'],\n",
       " [u'14', u'Ian Clark', u'947276'],\n",
       " [u'15', u'James Michael McAdoo', u'845059']]"
      ]
     },
     "execution_count": 90,
     "metadata": {},
     "output_type": "execute_result"
    }
   ],
   "source": [
    "new_data4 = map(lambda x: [x[0],x[1],(x[2].replace(',','').replace('$',''))], new_data3)\n",
    "new_data4"
   ]
  },
  {
   "cell_type": "code",
   "execution_count": 91,
   "metadata": {
    "collapsed": false
   },
   "outputs": [
    {
     "data": {
      "text/html": [
       "<div style=\"max-height:1000px;max-width:1500px;overflow:auto;\">\n",
       "<table border=\"1\" class=\"dataframe\">\n",
       "  <thead>\n",
       "    <tr style=\"text-align: right;\">\n",
       "      <th></th>\n",
       "      <th>Player</th>\n",
       "      <th>Salary</th>\n",
       "    </tr>\n",
       "  </thead>\n",
       "  <tbody>\n",
       "    <tr>\n",
       "      <th>1</th>\n",
       "      <td>Klay Thompson</td>\n",
       "      <td>15500000</td>\n",
       "    </tr>\n",
       "    <tr>\n",
       "      <th>2</th>\n",
       "      <td>Draymond Green</td>\n",
       "      <td>14300000</td>\n",
       "    </tr>\n",
       "    <tr>\n",
       "      <th>3</th>\n",
       "      <td>Andrew Bogut</td>\n",
       "      <td>12000000</td>\n",
       "    </tr>\n",
       "    <tr>\n",
       "      <th>4</th>\n",
       "      <td>Andre Iguodala</td>\n",
       "      <td>11710456</td>\n",
       "    </tr>\n",
       "    <tr>\n",
       "      <th>5</th>\n",
       "      <td>Stephen Curry</td>\n",
       "      <td>11370786</td>\n",
       "    </tr>\n",
       "    <tr>\n",
       "      <th>6</th>\n",
       "      <td>Jason Thompson</td>\n",
       "      <td>6431250</td>\n",
       "    </tr>\n",
       "    <tr>\n",
       "      <th>7</th>\n",
       "      <td>Shaun Livingston</td>\n",
       "      <td>5543725</td>\n",
       "    </tr>\n",
       "    <tr>\n",
       "      <th>8</th>\n",
       "      <td>Harrison Barnes</td>\n",
       "      <td>3873398</td>\n",
       "    </tr>\n",
       "    <tr>\n",
       "      <th>9</th>\n",
       "      <td>Marreese Speights</td>\n",
       "      <td>3815000</td>\n",
       "    </tr>\n",
       "    <tr>\n",
       "      <th>10</th>\n",
       "      <td>Leandro Barbosa</td>\n",
       "      <td>2500000</td>\n",
       "    </tr>\n",
       "    <tr>\n",
       "      <th>11</th>\n",
       "      <td>Festus Ezeli</td>\n",
       "      <td>2008748</td>\n",
       "    </tr>\n",
       "    <tr>\n",
       "      <th>12</th>\n",
       "      <td>Brandon Rush</td>\n",
       "      <td>1270964</td>\n",
       "    </tr>\n",
       "    <tr>\n",
       "      <th>13</th>\n",
       "      <td>Kevon Looney</td>\n",
       "      <td>1131960</td>\n",
       "    </tr>\n",
       "    <tr>\n",
       "      <th>14</th>\n",
       "      <td>Ian Clark</td>\n",
       "      <td>947276</td>\n",
       "    </tr>\n",
       "    <tr>\n",
       "      <th>15</th>\n",
       "      <td>James Michael McAdoo</td>\n",
       "      <td>845059</td>\n",
       "    </tr>\n",
       "  </tbody>\n",
       "</table>\n",
       "</div>"
      ],
      "text/plain": [
       "                  Player    Salary\n",
       "1          Klay Thompson  15500000\n",
       "2         Draymond Green  14300000\n",
       "3           Andrew Bogut  12000000\n",
       "4         Andre Iguodala  11710456\n",
       "5          Stephen Curry  11370786\n",
       "6         Jason Thompson   6431250\n",
       "7       Shaun Livingston   5543725\n",
       "8        Harrison Barnes   3873398\n",
       "9      Marreese Speights   3815000\n",
       "10       Leandro Barbosa   2500000\n",
       "11          Festus Ezeli   2008748\n",
       "12          Brandon Rush   1270964\n",
       "13          Kevon Looney   1131960\n",
       "14             Ian Clark    947276\n",
       "15  James Michael McAdoo    845059"
      ]
     },
     "execution_count": 91,
     "metadata": {},
     "output_type": "execute_result"
    }
   ],
   "source": [
    "df = pd.DataFrame(new_data4,columns=new_data4[0])\n",
    "df = df.drop(0,axis=0)\n",
    "df = df.drop('Rk',axis=1)\n",
    "df"
   ]
  },
  {
   "cell_type": "code",
   "execution_count": 92,
   "metadata": {
    "collapsed": false
   },
   "outputs": [
    {
     "data": {
      "text/html": [
       "<div style=\"max-height:1000px;max-width:1500px;overflow:auto;\">\n",
       "<table border=\"1\" class=\"dataframe\">\n",
       "  <thead>\n",
       "    <tr style=\"text-align: right;\">\n",
       "      <th></th>\n",
       "      <th>year</th>\n",
       "      <th>team</th>\n",
       "      <th>salary</th>\n",
       "    </tr>\n",
       "  </thead>\n",
       "  <tbody>\n",
       "    <tr>\n",
       "      <th>0</th>\n",
       "      <td>2016</td>\n",
       "      <td>GSW</td>\n",
       "      <td>93248622</td>\n",
       "    </tr>\n",
       "  </tbody>\n",
       "</table>\n",
       "</div>"
      ],
      "text/plain": [
       "   year team    salary\n",
       "0  2016  GSW  93248622"
      ]
     },
     "execution_count": 92,
     "metadata": {},
     "output_type": "execute_result"
    }
   ],
   "source": [
    "tot_salary = df['Salary'].astype('float32').sum()\n",
    "current_entry = pd.DataFrame([[year,team,tot_salary]],columns=['year','team','salary'])\n",
    "current_entry\n"
   ]
  },
  {
   "cell_type": "code",
   "execution_count": 98,
   "metadata": {
    "collapsed": false
   },
   "outputs": [
    {
     "data": {
      "text/html": [
       "<div style=\"max-height:1000px;max-width:1500px;overflow:auto;\">\n",
       "<table border=\"1\" class=\"dataframe\">\n",
       "  <thead>\n",
       "    <tr style=\"text-align: right;\">\n",
       "      <th></th>\n",
       "      <th>year</th>\n",
       "      <th>team</th>\n",
       "      <th>salary</th>\n",
       "    </tr>\n",
       "  </thead>\n",
       "  <tbody>\n",
       "    <tr>\n",
       "      <th>0</th>\n",
       "      <td>2016</td>\n",
       "      <td>GSW</td>\n",
       "      <td>93248622</td>\n",
       "    </tr>\n",
       "  </tbody>\n",
       "</table>\n",
       "</div>"
      ],
      "text/plain": [
       "   year team    salary\n",
       "0  2016  GSW  93248622"
      ]
     },
     "execution_count": 98,
     "metadata": {},
     "output_type": "execute_result"
    }
   ],
   "source": [
    "salary_df = pd.concat([salary_df,current_entry])\n",
    "salary_df"
   ]
  },
  {
   "cell_type": "code",
   "execution_count": null,
   "metadata": {
    "collapsed": true
   },
   "outputs": [],
   "source": [
    "# END LOOP HERE"
   ]
  },
  {
   "cell_type": "code",
   "execution_count": 99,
   "metadata": {
    "collapsed": false
   },
   "outputs": [],
   "source": [
    "salary_df.to_csv('{}_salary.csv'.format(team))"
   ]
  },
  {
   "cell_type": "code",
   "execution_count": null,
   "metadata": {
    "collapsed": true
   },
   "outputs": [],
   "source": []
  },
  {
   "cell_type": "code",
   "execution_count": null,
   "metadata": {
    "collapsed": true
   },
   "outputs": [],
   "source": []
  }
 ],
 "metadata": {
  "kernelspec": {
   "display_name": "Python 2",
   "language": "python",
   "name": "python2"
  },
  "language_info": {
   "codemirror_mode": {
    "name": "ipython",
    "version": 2
   },
   "file_extension": ".py",
   "mimetype": "text/x-python",
   "name": "python",
   "nbconvert_exporter": "python",
   "pygments_lexer": "ipython2",
   "version": "2.7.9"
  }
 },
 "nbformat": 4,
 "nbformat_minor": 0
}
